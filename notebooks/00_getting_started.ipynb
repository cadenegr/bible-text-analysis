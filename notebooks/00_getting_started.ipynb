{
 "cells": [
  {
   "cell_type": "markdown",
   "id": "4e561f8e",
   "metadata": {},
   "source": [
    "# Getting Started with Bible Text Analysis\n",
    "\n",
    "## Welcome! 👋\n",
    "\n",
    "This notebook will teach you the basics of data analysis using the Bible as our text dataset. Don't worry if you're new to data science - we'll go step by step!\n",
    "\n",
    "### What You'll Learn:\n",
    "1. How to load and read text data\n",
    "2. Basic text analysis (word counts, frequencies)\n",
    "3. Data visualization (charts and graphs)\n",
    "4. Simple statistical analysis\n",
    "\n",
    "### Let's Get Started! 🚀"
   ]
  },
  {
   "cell_type": "markdown",
   "id": "0f1f980b",
   "metadata": {},
   "source": [
    "## Step 1: Import Libraries\n",
    "\n",
    "Libraries are pre-written code that help us do complex tasks easily. Think of them as tools in a toolbox."
   ]
  },
  {
   "cell_type": "code",
   "execution_count": null,
   "id": "d274add3",
   "metadata": {},
   "outputs": [],
   "source": [
    "# pandas: for working with data tables\n",
    "import pandas as pd\n",
    "\n",
    "# matplotlib & seaborn: for creating charts and graphs\n",
    "import matplotlib.pyplot as plt\n",
    "import seaborn as sns\n",
    "\n",
    "# For text analysis\n",
    "from collections import Counter\n",
    "import re\n",
    "\n",
    "# Make graphs look nice\n",
    "plt.style.use('seaborn-v0_8')\n",
    "sns.set_palette(\"husl\")\n",
    "\n",
    "print(\"✅ Libraries loaded successfully!\")\n",
    "print(\"Ready to analyze the Bible text! 📖\")"
   ]
  },
  {
   "cell_type": "markdown",
   "id": "e9d69810",
   "metadata": {},
   "source": [
    "## Step 2: Load the Bible Text\n",
    "\n",
    "Let's read the Bible text file that's already in your data folder."
   ]
  },
  {
   "cell_type": "code",
   "execution_count": null,
   "id": "74da8ebb",
   "metadata": {},
   "outputs": [],
   "source": [
    "# Read the Bible text file\n",
    "with open('../data/raw/kjv_bible.txt', 'r', encoding='utf-8') as file:\n",
    "    bible_text = file.read()\n",
    "\n",
    "# Let's see how much text we have\n",
    "print(f\"Total characters: {len(bible_text):,}\")\n",
    "print(f\"\\nFirst 500 characters:\")\n",
    "print(bible_text[:500])"
   ]
  },
  {
   "cell_type": "markdown",
   "id": "56bee6fb",
   "metadata": {},
   "source": [
    "## Step 3: Basic Text Analysis\n",
    "\n",
    "### Let's count words!\n",
    "\n",
    "We'll split the text into individual words and count them."
   ]
  },
  {
   "cell_type": "code",
   "execution_count": null,
   "id": "7a674e9c",
   "metadata": {},
   "outputs": [],
   "source": [
    "# Convert to lowercase and split into words\n",
    "words = bible_text.lower().split()\n",
    "\n",
    "# Remove punctuation from words\n",
    "words_clean = [re.sub(r'[^a-z]', '', word) for word in words if re.sub(r'[^a-z]', '', word)]\n",
    "\n",
    "print(f\"Total words in the Bible: {len(words_clean):,}\")\n",
    "print(f\"\\nFirst 20 words: {words_clean[:20]}\")"
   ]
  },
  {
   "cell_type": "markdown",
   "id": "9d615810",
   "metadata": {},
   "source": [
    "## Step 4: Find the Most Common Words\n",
    "\n",
    "Let's discover which words appear most frequently in the Bible!"
   ]
  },
  {
   "cell_type": "code",
   "execution_count": null,
   "id": "331c6026",
   "metadata": {},
   "outputs": [],
   "source": [
    "# Count word frequencies\n",
    "word_counts = Counter(words_clean)\n",
    "\n",
    "# Get the 20 most common words\n",
    "most_common = word_counts.most_common(20)\n",
    "\n",
    "print(\"Top 20 Most Frequent Words in the Bible:\\n\")\n",
    "for rank, (word, count) in enumerate(most_common, 1):\n",
    "    print(f\"{rank:2d}. '{word}' appears {count:,} times\")"
   ]
  },
  {
   "cell_type": "markdown",
   "id": "d2baca3a",
   "metadata": {},
   "source": [
    "## Step 5: Create Your First Visualization! 📊\n",
    "\n",
    "Let's make a bar chart showing the most common words."
   ]
  },
  {
   "cell_type": "code",
   "execution_count": null,
   "id": "565ba08f",
   "metadata": {},
   "outputs": [],
   "source": [
    "# Get top 15 words (excluding very common words like 'the', 'and', etc.)\n",
    "# These are called \"stop words\"\n",
    "stop_words = {'the', 'and', 'of', 'to', 'a', 'in', 'that', 'he', 'is', 'for', 'it', 'with', 'as', 'his', 'i', 'was', 'be', 'they', 'him'}\n",
    "meaningful_words = [(word, count) for word, count in word_counts.most_common(50) if word not in stop_words][:15]\n",
    "\n",
    "# Prepare data for plotting\n",
    "words_list = [word for word, count in meaningful_words]\n",
    "counts_list = [count for word, count in meaningful_words]\n",
    "\n",
    "# Create the bar chart\n",
    "plt.figure(figsize=(12, 6))\n",
    "plt.bar(words_list, counts_list, color='steelblue')\n",
    "plt.xlabel('Words', fontsize=12)\n",
    "plt.ylabel('Frequency', fontsize=12)\n",
    "plt.title('Top 15 Most Frequent Meaningful Words in the Bible', fontsize=14, fontweight='bold')\n",
    "plt.xticks(rotation=45, ha='right')\n",
    "plt.tight_layout()\n",
    "plt.show()\n",
    "\n",
    "print(\"📊 Your first data visualization is complete!\")"
   ]
  },
  {
   "cell_type": "markdown",
   "id": "825b3595",
   "metadata": {},
   "source": [
    "## Step 6: Analyze Word Lengths\n",
    "\n",
    "How long are the words in the Bible on average?"
   ]
  },
  {
   "cell_type": "code",
   "execution_count": null,
   "id": "d89a838d",
   "metadata": {},
   "outputs": [],
   "source": [
    "# Calculate word lengths\n",
    "word_lengths = [len(word) for word in words_clean]\n",
    "\n",
    "# Calculate statistics\n",
    "average_length = sum(word_lengths) / len(word_lengths)\n",
    "shortest_word = min(word_lengths)\n",
    "longest_word = max(word_lengths)\n",
    "\n",
    "print(f\"Word Length Statistics:\")\n",
    "print(f\"  Average word length: {average_length:.2f} letters\")\n",
    "print(f\"  Shortest word: {shortest_word} letter(s)\")\n",
    "print(f\"  Longest word: {longest_word} letters\")\n",
    "\n",
    "# Find the actual longest words\n",
    "longest_words = [word for word in words_clean if len(word) == longest_word]\n",
    "print(f\"\\nExamples of longest words ({longest_word} letters): {list(set(longest_words))[:5]}\")"
   ]
  },
  {
   "cell_type": "markdown",
   "id": "73c1b006",
   "metadata": {},
   "source": [
    "## Step 7: Word Length Distribution\n",
    "\n",
    "Let's visualize how word lengths are distributed."
   ]
  },
  {
   "cell_type": "code",
   "execution_count": null,
   "id": "b47440b0",
   "metadata": {},
   "outputs": [],
   "source": [
    "# Create histogram\n",
    "plt.figure(figsize=(12, 6))\n",
    "plt.hist(word_lengths, bins=range(1, max(word_lengths)+1), color='coral', edgecolor='black', alpha=0.7)\n",
    "plt.xlabel('Word Length (letters)', fontsize=12)\n",
    "plt.ylabel('Frequency', fontsize=12)\n",
    "plt.title('Distribution of Word Lengths in the Bible', fontsize=14, fontweight='bold')\n",
    "plt.axvline(average_length, color='red', linestyle='--', linewidth=2, label=f'Average: {average_length:.1f}')\n",
    "plt.legend()\n",
    "plt.grid(axis='y', alpha=0.3)\n",
    "plt.tight_layout()\n",
    "plt.show()"
   ]
  },
  {
   "cell_type": "markdown",
   "id": "c22f9263",
   "metadata": {},
   "source": [
    "## Step 8: Unique Words (Vocabulary)\n",
    "\n",
    "How many different words are used in the Bible?"
   ]
  },
  {
   "cell_type": "code",
   "execution_count": null,
   "id": "06a835a6",
   "metadata": {},
   "outputs": [],
   "source": [
    "# Count unique words\n",
    "unique_words = set(words_clean)\n",
    "total_words = len(words_clean)\n",
    "vocabulary_size = len(unique_words)\n",
    "\n",
    "print(f\"Vocabulary Analysis:\")\n",
    "print(f\"  Total words: {total_words:,}\")\n",
    "print(f\"  Unique words (vocabulary): {vocabulary_size:,}\")\n",
    "print(f\"  Vocabulary diversity: {(vocabulary_size/total_words)*100:.2f}%\")\n",
    "print(f\"\\nThis means {vocabulary_size:,} different words are used to write {total_words:,} total words!\")"
   ]
  },
  {
   "cell_type": "markdown",
   "id": "349004f3",
   "metadata": {},
   "source": [
    "## Step 9: Search for Specific Words\n",
    "\n",
    "Let's search for how many times specific words appear."
   ]
  },
  {
   "cell_type": "code",
   "execution_count": null,
   "id": "e7d1948c",
   "metadata": {},
   "outputs": [],
   "source": [
    "# Search for specific words\n",
    "search_words = ['love', 'faith', 'hope', 'peace', 'joy', 'grace', 'mercy', 'god', 'lord', 'jesus']\n",
    "\n",
    "print(\"Word Frequency Analysis:\\n\")\n",
    "word_freq_data = []\n",
    "for word in search_words:\n",
    "    count = word_counts.get(word, 0)\n",
    "    word_freq_data.append({'Word': word.capitalize(), 'Frequency': count})\n",
    "    print(f\"  '{word.capitalize()}' appears {count:,} times\")\n",
    "\n",
    "# Create a dataframe (data table)\n",
    "df = pd.DataFrame(word_freq_data)\n",
    "print(\"\\n📊 Data Table:\")\n",
    "print(df)"
   ]
  },
  {
   "cell_type": "markdown",
   "id": "bac19beb",
   "metadata": {},
   "source": [
    "## Step 10: Visualize Your Search Results\n",
    "\n",
    "Let's create a nice chart for these important words!"
   ]
  },
  {
   "cell_type": "code",
   "execution_count": null,
   "id": "bdca194d",
   "metadata": {},
   "outputs": [],
   "source": [
    "# Create horizontal bar chart\n",
    "plt.figure(figsize=(10, 6))\n",
    "df_sorted = df.sort_values('Frequency', ascending=True)\n",
    "plt.barh(df_sorted['Word'], df_sorted['Frequency'], color='mediumseagreen')\n",
    "plt.xlabel('Frequency', fontsize=12)\n",
    "plt.ylabel('Word', fontsize=12)\n",
    "plt.title('Frequency of Important Words in the Bible', fontsize=14, fontweight='bold')\n",
    "plt.grid(axis='x', alpha=0.3)\n",
    "plt.tight_layout()\n",
    "plt.show()"
   ]
  },
  {
   "cell_type": "markdown",
   "id": "a69aa3bf",
   "metadata": {},
   "source": [
    "## 🎉 Congratulations!\n",
    "\n",
    "You've completed your first data analysis! Here's what you learned:\n",
    "\n",
    "✅ **Loading data** from files  \n",
    "✅ **Basic text processing** (splitting, cleaning)  \n",
    "✅ **Counting and statistics** (word frequencies, averages)  \n",
    "✅ **Data visualization** (bar charts, histograms)  \n",
    "✅ **Using pandas** to organize data  \n",
    "\n",
    "### Next Steps:\n",
    "1. Try modifying the code above\n",
    "2. Search for different words\n",
    "3. Create your own visualizations\n",
    "4. Move on to `01_data_acquisition.ipynb` for more advanced analysis\n",
    "\n",
    "### Practice Ideas:\n",
    "- Search for your favorite words\n",
    "- Change the colors of the charts\n",
    "- Try analyzing different sections of the Bible\n",
    "- Count how many times specific names appear\n",
    "\n",
    "**Remember**: Data analysis is all about exploring and asking questions! 🔍"
   ]
  }
 ],
 "metadata": {
  "kernelspec": {
   "display_name": "Python 3 (ipykernel)",
   "language": "python",
   "name": "python3"
  },
  "language_info": {
   "codemirror_mode": {
    "name": "ipython",
    "version": 3
   },
   "file_extension": ".py",
   "mimetype": "text/x-python",
   "name": "python",
   "nbconvert_exporter": "python",
   "pygments_lexer": "ipython3",
   "version": "3.10.12"
  }
 },
 "nbformat": 4,
 "nbformat_minor": 5
}
